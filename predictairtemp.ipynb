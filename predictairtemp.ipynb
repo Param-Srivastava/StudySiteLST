{
 "cells": [
  {
   "cell_type": "code",
   "execution_count": null,
   "metadata": {},
   "outputs": [],
   "source": [
    "import numpy as np\n",
    "import pandas as pd\n",
    "import tensorflow as tf\n",
    "from sklearn.model_selection import train_test_split\n",
    "from sklearn.preprocessing import StandardScaler\n",
    "import matplotlib.pyplot as plt\n",
    "# Load dataset\n",
    "dataset = pd.read_excel(r'C:\\Users\\Param Srivastava\\OneDrive\\Documents\\DATA2013-MAY.xlsx')\n",
    "\n",
    "# Split features and target variable\n",
    "X = dataset.drop('AirTemp_May_2013', axis=1)\n",
    "y = dataset['AirTemp_May_2013']\n",
    "\n",
    "# Standardize the features\n",
    "scaler = StandardScaler()\n",
    "X_scaled = scaler.fit_transform(X)\n",
    "\n",
    "# Split the data into training and testing sets\n",
    "X_train, X_test, y_train, y_test = train_test_split(X_scaled, y, test_size=0.2, random_state=42)\n",
    "from tensorflow.keras import regularizers\n",
    "\n",
    "\n",
    "model = tf.keras.Sequential([\n",
    "    tf.keras.layers.Dense(64, activation='relu', kernel_regularizer=regularizers.l2(0.001), input_shape=(X_train.shape[1],)),\n",
    "    tf.keras.layers.Dense(32, activation='relu', kernel_regularizer=regularizers.l2(0.001)),\n",
    "    tf.keras.layers.Dense(1)\n",
    "])\n",
    "\n",
    "model.compile(optimizer='adam', loss='mean_squared_error')\n",
    "history = model.fit(X_train, y_train, epochs=120, batch_size=32, validation_split=0.2)\n",
    "predictions=model.predict(X_test)\n",
    "plt.plot(history.history['loss'], label='Training Loss')\n",
    "plt.plot(history.history['val_loss'], label='Validation Loss')\n",
    "plt.xlabel('Epoch')\n",
    "plt.ylabel('Loss')\n",
    "plt.title('Training and Validation Loss 2013')\n",
    "plt.legend()\n",
    "plt.show()\n",
    "plt.scatter(predictions, y_test, color='red', label='Predicted')\n",
    "plt.plot(predictions, predictions, color='blue', label='Actual')  # Plotting a line for actual values\n",
    "plt.xlabel('Predicted')\n",
    "plt.ylabel('Actual')\n",
    "plt.title('Predicted vs Actual(Air Temperature) 2013')\n",
    "plt.legend()\n",
    "plt.grid(True)\n",
    "plt.show()\n",
    "dataset['Predicted_AirTemp_May_2013'] = np.nan\n",
    "dataset.loc[y_test.index, 'Predicted_AirTemp_May_2013'] = predictions.flatten()\n",
    "\n",
    "# Write the DataFrame back to the Excel file\n",
    "dataset.to_excel(r'C:\\Users\\Param Srivastava\\OneDrive\\Documents\\DATA2013-May_Predicted.xlsx', index=False)"
   ]
  }
 ],
 "metadata": {
  "kernelspec": {
   "display_name": "torch",
   "language": "python",
   "name": "python3"
  },
  "language_info": {
   "codemirror_mode": {
    "name": "ipython",
    "version": 3
   },
   "file_extension": ".py",
   "mimetype": "text/x-python",
   "name": "python",
   "nbconvert_exporter": "python",
   "pygments_lexer": "ipython3",
   "version": "3.9.13"
  }
 },
 "nbformat": 4,
 "nbformat_minor": 2
}
